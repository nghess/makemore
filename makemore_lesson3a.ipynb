{
  "nbformat": 4,
  "nbformat_minor": 0,
  "metadata": {
    "colab": {
      "provenance": [],
      "authorship_tag": "ABX9TyOghSbNEfHjaNUvA/sPojzv",
      "include_colab_link": true
    },
    "kernelspec": {
      "name": "python3",
      "display_name": "Python 3"
    },
    "language_info": {
      "name": "python"
    }
  },
  "cells": [
    {
      "cell_type": "markdown",
      "metadata": {
        "id": "view-in-github",
        "colab_type": "text"
      },
      "source": [
        "<a href=\"https://colab.research.google.com/github/nghess/makemore/blob/main/makemore_lesson3a.ipynb\" target=\"_parent\"><img src=\"https://colab.research.google.com/assets/colab-badge.svg\" alt=\"Open In Colab\"/></a>"
      ]
    },
    {
      "cell_type": "code",
      "execution_count": 197,
      "metadata": {
        "id": "fna-1y3Le3r-"
      },
      "outputs": [],
      "source": [
        "import numpy as np\n",
        "import urllib3\n",
        "import random \n",
        "import torch\n",
        "import torch.nn.functional as F\n",
        "import matplotlib.pyplot as plt\n",
        "%matplotlib inline"
      ]
    },
    {
      "cell_type": "markdown",
      "source": [
        "## Import text file"
      ],
      "metadata": {
        "id": "lQrf8UsZlWFs"
      }
    },
    {
      "cell_type": "code",
      "source": [
        "# Grab text file from github\n",
        "http = urllib3.PoolManager()\n",
        "textfile = http.request('GET', 'https://raw.githubusercontent.com/nghess/makemore/master/names.txt')\n",
        "words = str(textfile.data, 'utf-8').splitlines()"
      ],
      "metadata": {
        "id": "Gas_xh2ViSy4"
      },
      "execution_count": 198,
      "outputs": []
    },
    {
      "cell_type": "code",
      "source": [
        "# Take a peak at text file\n",
        "words[:10]"
      ],
      "metadata": {
        "colab": {
          "base_uri": "https://localhost:8080/"
        },
        "id": "QpKY8UAijuA4",
        "outputId": "e108b645-d890-499e-bac0-24d305ead9f7"
      },
      "execution_count": 199,
      "outputs": [
        {
          "output_type": "execute_result",
          "data": {
            "text/plain": [
              "['emma',\n",
              " 'olivia',\n",
              " 'ava',\n",
              " 'isabella',\n",
              " 'sophia',\n",
              " 'charlotte',\n",
              " 'mia',\n",
              " 'amelia',\n",
              " 'harper',\n",
              " 'evelyn']"
            ]
          },
          "metadata": {},
          "execution_count": 199
        }
      ]
    },
    {
      "cell_type": "code",
      "source": [
        "# Build character to/from string mappings\n",
        "chars = sorted(list(set(''.join(words))))\n",
        "stoi = {s:i+1 for i, s in enumerate(chars)}\n",
        "stoi['.'] = 0\n",
        "itos = {i:s for s, i in stoi.items()}\n",
        "block_size = 3  # context length: how many characters do we use to predict the next one?"
      ],
      "metadata": {
        "id": "7t4Z8wSqFHyB"
      },
      "execution_count": 200,
      "outputs": []
    },
    {
      "cell_type": "code",
      "source": [
        "# Build the dataset\n",
        "def build_dataset(words):\n",
        "\n",
        "  X, Y = [], []\n",
        "  for w in words:\n",
        "\n",
        "    context = [0] * block_size\n",
        "    for ch in w + '.':\n",
        "      ix = stoi[ch]\n",
        "      X.append(context)\n",
        "      Y.append(ix)\n",
        "    # print(''.join(itos[i] for i in context), '--->', itos[ix])\n",
        "      context = context[1:] + [ix] #  Crop and append\n",
        "\n",
        "  X = torch.tensor(X)\n",
        "  Y = torch.tensor(Y)\n",
        "  print(X.shape, Y.shape)\n",
        "  return X, Y\n",
        "\n",
        "random.seed(42)\n",
        "random.shuffle(words)\n",
        "n1 = int(0.8*len(words))\n",
        "n2 = int(0.9*len(words))\n",
        "\n",
        "Xtr, Ytr = build_dataset(words[:n1])\n",
        "Xdev, Ydev = build_dataset(words[n1:n2])\n",
        "Xte, Yte = build_dataset(words[n2:])"
      ],
      "metadata": {
        "colab": {
          "base_uri": "https://localhost:8080/"
        },
        "id": "23wu2I7QpWBL",
        "outputId": "7707304e-89fa-402a-917b-cd0a0c3e77a4"
      },
      "execution_count": 201,
      "outputs": [
        {
          "output_type": "stream",
          "name": "stdout",
          "text": [
            "torch.Size([182625, 3]) torch.Size([182625])\n",
            "torch.Size([22655, 3]) torch.Size([22655])\n",
            "torch.Size([22866, 3]) torch.Size([22866])\n"
          ]
        }
      ]
    },
    {
      "cell_type": "code",
      "source": [
        "len(words)"
      ],
      "metadata": {
        "colab": {
          "base_uri": "https://localhost:8080/"
        },
        "id": "rzVWk1VGrjlO",
        "outputId": "1e35a629-36fb-4285-e075-a90f064ba362"
      },
      "execution_count": 202,
      "outputs": [
        {
          "output_type": "execute_result",
          "data": {
            "text/plain": [
              "32033"
            ]
          },
          "metadata": {},
          "execution_count": 202
        }
      ]
    },
    {
      "cell_type": "code",
      "source": [
        "n_emb = 50\n",
        "n_hidden = 200\n",
        "n_chars = len(stoi)\n",
        "\n",
        "g = torch.Generator().manual_seed(2147483647)\n",
        "C = torch.randn((n_chars, n_emb), generator=g)\n",
        "W1 = torch.randn((n_emb*block_size, n_hidden), generator=g) * (5/3)/((n_emb*block_size)**0.5)  # Kaiming init\n",
        "#b1 = torch.randn(n_hidden, generator=g) * 0.01\n",
        "W2 = torch.randn((n_hidden, n_chars), generator=g) * 0.01\n",
        "b2 = torch.randn(n_chars, generator=g) * 0\n",
        "\n",
        "bngain = torch.ones((1, n_hidden))\n",
        "bnbias = torch.zeros((1, n_hidden))\n",
        "bnmean_running = torch.zeros((1, n_hidden))\n",
        "bnstd_running = torch.ones((1, n_hidden))\n",
        "\n",
        "parameters = [C, W1, W2, b2, bngain, bnbias]\n",
        "\n",
        "for p in parameters:\n",
        "  p.requires_grad = True"
      ],
      "metadata": {
        "id": "ShXHpZnPlxBx"
      },
      "execution_count": 203,
      "outputs": []
    },
    {
      "cell_type": "code",
      "source": [
        "sum(p.nelement() for p in parameters)"
      ],
      "metadata": {
        "colab": {
          "base_uri": "https://localhost:8080/"
        },
        "id": "Km5iFPk8sfpf",
        "outputId": "b527d986-eeae-49f3-bf26-f9394b2976d3"
      },
      "execution_count": 204,
      "outputs": [
        {
          "output_type": "execute_result",
          "data": {
            "text/plain": [
              "37177"
            ]
          },
          "metadata": {},
          "execution_count": 204
        }
      ]
    },
    {
      "cell_type": "code",
      "source": [
        "iters = 100000\n",
        "batch_size = 32\n",
        "lossi = []\n",
        "\n",
        "\n",
        "# Forward pass\n",
        "for i in range(iters):\n",
        "\n",
        "  # Minibatch construct\n",
        "  ix = torch.randint(0, Xtr.shape[0], (batch_size,), generator=g)\n",
        "  Xb, Yb = Xtr[ix], Ytr[ix]  # Batch x, y\n",
        "\n",
        "  # Forward pass\n",
        "  emb = C[Xb]  # (32, 2, 2) by indexing into the dataset \n",
        "  embcat = emb.view(emb.shape[0], -1)\n",
        "  # Linear layer\n",
        "  hpreact = embcat @ W1 #+ b1\n",
        "  # BatchNorm layer\n",
        "  bnmeani = hpreact.mean(0, keepdim=True)\n",
        "  bnstdi = hpreact.std(0, keepdim=True)\n",
        "  hpreact = bngain * (hpreact - bnmeani) / bnstdi + bnbias\n",
        "  with torch.no_grad():\n",
        "    bnmean_running = 0.999 * bnmean_running + 0.001 * bnmeani\n",
        "    bnstd_running = 0.999 * bnstd_running + 0.001 * bnstdi\n",
        "  # Non-linearity\n",
        "  h = torch.tanh(hpreact)  # Hidden layer\n",
        "  logits = h @ W2 + b2  # Output layer\n",
        "  loss = F.cross_entropy(logits, Yb)\n",
        "\n",
        "  # Backward pass\n",
        "  for p in parameters:\n",
        "      p.grad = None\n",
        "  loss.backward()\n",
        "\n",
        "  # Update\n",
        "  lr = 0.1 if i < int(iters/2) else 0.01 \n",
        "  for p in parameters:\n",
        "    p.data += -lr * p.grad\n",
        "\n",
        "  # Track loss\n",
        "  if i % 10000 == 0: # print every 10000 iters\n",
        "    print(f'{i:7d}/{iters:7d}: {loss.item():.4f}')\n",
        "  lossi.append(loss.log10().item())"
      ],
      "metadata": {
        "id": "ULcrI6XVm1FB",
        "colab": {
          "base_uri": "https://localhost:8080/"
        },
        "outputId": "3df329b7-b6ce-457f-c9b9-d74e7ef18627"
      },
      "execution_count": 205,
      "outputs": [
        {
          "output_type": "stream",
          "name": "stdout",
          "text": [
            "      0/ 100000: 3.2916\n",
            "  10000/ 100000: 2.2236\n",
            "  20000/ 100000: 2.0323\n",
            "  30000/ 100000: 2.0138\n",
            "  40000/ 100000: 2.1206\n",
            "  50000/ 100000: 2.3848\n",
            "  60000/ 100000: 2.2325\n",
            "  70000/ 100000: 2.0151\n",
            "  80000/ 100000: 2.3781\n",
            "  90000/ 100000: 2.5805\n"
          ]
        }
      ]
    },
    {
      "cell_type": "code",
      "source": [
        "stepi = torch.linspace(0, 1, iters)\n",
        "plt.plot(stepi, lossi)"
      ],
      "metadata": {
        "colab": {
          "base_uri": "https://localhost:8080/",
          "height": 282
        },
        "id": "LzRVonS-s5gS",
        "outputId": "b80f4788-9def-4c63-c09d-38b09ce7f4f8"
      },
      "execution_count": 206,
      "outputs": [
        {
          "output_type": "execute_result",
          "data": {
            "text/plain": [
              "[<matplotlib.lines.Line2D at 0x7f65f32afc40>]"
            ]
          },
          "metadata": {},
          "execution_count": 206
        },
        {
          "output_type": "display_data",
          "data": {
            "text/plain": [
              "<Figure size 432x288 with 1 Axes>"
            ],
            "image/png": "[encoded data removed]"
          },
          "metadata": {
            "needs_background": "light"
          }
        }
      ]
    },
    {
      "cell_type": "code",
      "source": [
        "lossi[1]"
      ],
      "metadata": {
        "colab": {
          "base_uri": "https://localhost:8080/"
        },
        "id": "rc59mErydp1Y",
        "outputId": "d378489c-4d0c-4f9a-c194-bf05500bcfbb"
      },
      "execution_count": 207,
      "outputs": [
        {
          "output_type": "execute_result",
          "data": {
            "text/plain": [
              "0.5173670649528503"
            ]
          },
          "metadata": {},
          "execution_count": 207
        }
      ]
    },
    {
      "cell_type": "code",
      "source": [
        "@torch.no_grad()\n",
        "def split_loss(split):\n",
        "  x, y = {\n",
        "      'train': (Xtr, Ytr),\n",
        "      'val': (Xdev, Ydev),\n",
        "      'test': (Xte, Yte),\n",
        "  }[split]\n",
        "  emb = C[x]  # (32, 2, 2) by indexing into the dataset \n",
        "  embcat = emb.view(emb.shape[0], -1)\n",
        "  hpreact = embcat @ W1 #+ b1\n",
        "  hpreact = bngain * (hpreact - bnmean_running) / (bnstd_running + bnbias)\n",
        "  h = torch.tanh(hpreact)   # (N, nhidden)\n",
        "  logits = h @ W2 + b2  # (N, vocab size)\n",
        "  loss = F.cross_entropy(logits, y)\n",
        "  print(split, loss.item())\n",
        "\n",
        "split_loss('train')\n",
        "split_loss('val')"
      ],
      "metadata": {
        "colab": {
          "base_uri": "https://localhost:8080/"
        },
        "id": "1ANU3g4SwEl0",
        "outputId": "3c9e6290-cb9d-4745-d481-1191568e4841"
      },
      "execution_count": 208,
      "outputs": [
        {
          "output_type": "stream",
          "name": "stdout",
          "text": [
            "train 2.150379180908203\n",
            "val 2.193241834640503\n"
          ]
        }
      ]
    }
  ]
}