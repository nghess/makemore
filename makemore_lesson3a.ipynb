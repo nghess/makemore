{
  "nbformat": 4,
  "nbformat_minor": 0,
  "metadata": {
    "colab": {
      "provenance": [],
      "authorship_tag": "ABX9TyPr/IBkFnyxwEBVPG6RvToG",
      "include_colab_link": true
    },
    "kernelspec": {
      "name": "python3",
      "display_name": "Python 3"
    },
    "language_info": {
      "name": "python"
    }
  },
  "cells": [
    {
      "cell_type": "markdown",
      "metadata": {
        "id": "view-in-github",
        "colab_type": "text"
      },
      "source": [
        "<a href=\"https://colab.research.google.com/github/nghess/makemore/blob/main/makemore_lesson3a.ipynb\" target=\"_parent\"><img src=\"https://colab.research.google.com/assets/colab-badge.svg\" alt=\"Open In Colab\"/></a>"
      ]
    },
    {
      "cell_type": "code",
      "execution_count": 173,
      "metadata": {
        "id": "fna-1y3Le3r-"
      },
      "outputs": [],
      "source": [
        "import numpy as np\n",
        "import urllib3\n",
        "import random \n",
        "import torch\n",
        "import torch.nn.functional as F\n",
        "import matplotlib.pyplot as plt\n",
        "%matplotlib inline"
      ]
    },
    {
      "cell_type": "markdown",
      "source": [
        "## Import text file"
      ],
      "metadata": {
        "id": "lQrf8UsZlWFs"
      }
    },
    {
      "cell_type": "code",
      "source": [
        "# Grab text file from github\n",
        "http = urllib3.PoolManager()\n",
        "textfile = http.request('GET', 'https://raw.githubusercontent.com/nghess/makemore/master/names.txt')\n",
        "words = str(textfile.data, 'utf-8').splitlines()"
      ],
      "metadata": {
        "id": "Gas_xh2ViSy4"
      },
      "execution_count": 174,
      "outputs": []
    },
    {
      "cell_type": "code",
      "source": [
        "# Take a peak at text file\n",
        "words[:10]"
      ],
      "metadata": {
        "colab": {
          "base_uri": "https://localhost:8080/"
        },
        "id": "QpKY8UAijuA4",
        "outputId": "bc686e62-b010-406a-8215-544aab7d6e12"
      },
      "execution_count": 175,
      "outputs": [
        {
          "output_type": "execute_result",
          "data": {
            "text/plain": [
              "['emma',\n",
              " 'olivia',\n",
              " 'ava',\n",
              " 'isabella',\n",
              " 'sophia',\n",
              " 'charlotte',\n",
              " 'mia',\n",
              " 'amelia',\n",
              " 'harper',\n",
              " 'evelyn']"
            ]
          },
          "metadata": {},
          "execution_count": 175
        }
      ]
    },
    {
      "cell_type": "code",
      "source": [
        "# Build character to/from string mappings\n",
        "chars = sorted(list(set(''.join(words))))\n",
        "stoi = {s:i+1 for i, s in enumerate(chars)}\n",
        "stoi['.'] = 0\n",
        "itos = {i:s for s, i in stoi.items()}\n",
        "block_size = 3  # context length: how many characters do we use to predict the next one?"
      ],
      "metadata": {
        "id": "7t4Z8wSqFHyB"
      },
      "execution_count": 176,
      "outputs": []
    },
    {
      "cell_type": "code",
      "source": [
        "# Build the dataset\n",
        "def build_dataset(words):\n",
        "\n",
        "  X, Y = [], []\n",
        "  for w in words:\n",
        "\n",
        "    context = [0] * block_size\n",
        "    for ch in w + '.':\n",
        "      ix = stoi[ch]\n",
        "      X.append(context)\n",
        "      Y.append(ix)\n",
        "    # print(''.join(itos[i] for i in context), '--->', itos[ix])\n",
        "      context = context[1:] + [ix] #  Crop and append\n",
        "\n",
        "  X = torch.tensor(X)\n",
        "  Y = torch.tensor(Y)\n",
        "  print(X.shape, Y.shape)\n",
        "  return X, Y\n",
        "\n",
        "random.seed(42)\n",
        "random.shuffle(words)\n",
        "n1 = int(0.8*len(words))\n",
        "n2 = int(0.9*len(words))\n",
        "\n",
        "Xtr, Ytr = build_dataset(words[:n1])\n",
        "Xdev, Ydev = build_dataset(words[n1:n2])\n",
        "Xte, Yte = build_dataset(words[n2:])"
      ],
      "metadata": {
        "colab": {
          "base_uri": "https://localhost:8080/"
        },
        "id": "23wu2I7QpWBL",
        "outputId": "2dfdaa09-b182-4ae0-f9e9-84d1a67e2a93"
      },
      "execution_count": 177,
      "outputs": [
        {
          "output_type": "stream",
          "name": "stdout",
          "text": [
            "torch.Size([182625, 3]) torch.Size([182625])\n",
            "torch.Size([22655, 3]) torch.Size([22655])\n",
            "torch.Size([22866, 3]) torch.Size([22866])\n"
          ]
        }
      ]
    },
    {
      "cell_type": "code",
      "source": [
        "len(words)"
      ],
      "metadata": {
        "colab": {
          "base_uri": "https://localhost:8080/"
        },
        "id": "rzVWk1VGrjlO",
        "outputId": "025d58a0-4a27-4f15-f8fe-43348de0dca3"
      },
      "execution_count": 178,
      "outputs": [
        {
          "output_type": "execute_result",
          "data": {
            "text/plain": [
              "32033"
            ]
          },
          "metadata": {},
          "execution_count": 178
        }
      ]
    },
    {
      "cell_type": "code",
      "source": [
        "n_emb = 50\n",
        "n_hidden = 200\n",
        "n_chars = len(stoi)\n",
        "\n",
        "g = torch.Generator().manual_seed(2147483647)\n",
        "C = torch.randn((n_chars, n_emb), generator=g)\n",
        "W1 = torch.randn((n_emb*block_size, n_hidden), generator=g) * (5/3)/((n_emb*block_size)**0.5)  # Kaiming init\n",
        "#b1 = torch.randn(n_hidden, generator=g) * 0.01\n",
        "W2 = torch.randn((n_hidden, n_chars), generator=g) * 0.01\n",
        "b2 = torch.randn(n_chars, generator=g) * 0\n",
        "\n",
        "bngain = torch.ones((1, n_hidden))\n",
        "bnbias = torch.zeros((1, n_hidden))\n",
        "bnmean_running = torch.zeros((1, n_hidden))\n",
        "bnstd_running = torch.ones((1, n_hidden))\n",
        "\n",
        "parameters = [C, W1, W2, b2, bngain, bnbias]\n",
        "\n",
        "for p in parameters:\n",
        "  p.requires_grad = True"
      ],
      "metadata": {
        "id": "ShXHpZnPlxBx"
      },
      "execution_count": 179,
      "outputs": []
    },
    {
      "cell_type": "code",
      "source": [
        "sum(p.nelement() for p in parameters)"
      ],
      "metadata": {
        "colab": {
          "base_uri": "https://localhost:8080/"
        },
        "id": "Km5iFPk8sfpf",
        "outputId": "e61c413b-8f4f-45d5-8abf-ffb5025c43ac"
      },
      "execution_count": 180,
      "outputs": [
        {
          "output_type": "execute_result",
          "data": {
            "text/plain": [
              "37177"
            ]
          },
          "metadata": {},
          "execution_count": 180
        }
      ]
    },
    {
      "cell_type": "code",
      "source": [
        "iters = 500000\n",
        "batch_size = 32\n",
        "lossi = []\n",
        "\n",
        "\n",
        "# Forward pass\n",
        "for i in range(iters):\n",
        "\n",
        "  # Minibatch construct\n",
        "  ix = torch.randint(0, Xtr.shape[0], (batch_size,), generator=g)\n",
        "  Xb, Yb = Xtr[ix], Ytr[ix]  # Batch x, y\n",
        "\n",
        "  # Forward pass\n",
        "  emb = C[Xb]  # (32, 2, 2) by indexing into the dataset \n",
        "  embcat = emb.view(emb.shape[0], -1)\n",
        "  # Linear layer\n",
        "  hpreact = embcat @ W1 #+ b1\n",
        "  # BatchNorm layer\n",
        "  bnmeani = hpreact.mean(0, keepdim=True)\n",
        "  bnstdi = hpreact.std(0, keepdim=True)\n",
        "  hpreact = bngain * (hpreact - bnmeani) / bnstdi + bnbias\n",
        "  with torch.no_grad():\n",
        "    bnmean_running = 0.999 * bnmean_running + 0.001 * bnmeani\n",
        "    bnstd_running = 0.999 * bnstd_running + 0.001 * bnstdi\n",
        "  # Non-linearity\n",
        "  h = torch.tanh(hpreact)  # Hidden layer\n",
        "  logits = h @ W2 + b2  # Output layer\n",
        "  loss = F.cross_entropy(logits, Yb)\n",
        "\n",
        "  # Backward pass\n",
        "  for p in parameters:\n",
        "      p.grad = None\n",
        "  loss.backward()\n",
        "\n",
        "  # Update\n",
        "  lr = 0.1 if i < int(iters/2) else 0.01 \n",
        "  for p in parameters:\n",
        "    p.data += -lr * p.grad\n",
        "\n",
        "  # Track loss\n",
        "  if i % 10000 == 0: # print every 10000 iters\n",
        "    print(f'{i:7d}/{iters:7d}: {loss.item():.4f}')\n",
        "  lossi.append(loss.log10().item())"
      ],
      "metadata": {
        "id": "ULcrI6XVm1FB",
        "colab": {
          "base_uri": "https://localhost:8080/"
        },
        "outputId": "13dd3d77-d4ce-4c03-c30d-35411e7a4a9e"
      },
      "execution_count": 181,
      "outputs": [
        {
          "output_type": "stream",
          "name": "stdout",
          "text": [
            "      0/ 500000: 3.2916\n",
            "  10000/ 500000: 2.2236\n",
            "  20000/ 500000: 2.0323\n",
            "  30000/ 500000: 2.0138\n",
            "  40000/ 500000: 2.1206\n",
            "  50000/ 500000: 2.3848\n",
            "  60000/ 500000: 2.2171\n",
            "  70000/ 500000: 2.1054\n",
            "  80000/ 500000: 2.5162\n",
            "  90000/ 500000: 2.5932\n",
            " 100000/ 500000: 1.9742\n",
            " 110000/ 500000: 1.7760\n",
            " 120000/ 500000: 2.2535\n",
            " 130000/ 500000: 2.1644\n",
            " 140000/ 500000: 2.4504\n",
            " 150000/ 500000: 2.0710\n",
            " 160000/ 500000: 2.1055\n",
            " 170000/ 500000: 2.3836\n",
            " 180000/ 500000: 2.2311\n",
            " 190000/ 500000: 1.9585\n",
            " 200000/ 500000: 2.6035\n",
            " 210000/ 500000: 2.3106\n",
            " 220000/ 500000: 2.2347\n",
            " 230000/ 500000: 2.4283\n",
            " 240000/ 500000: 2.0086\n",
            " 250000/ 500000: 2.1525\n",
            " 260000/ 500000: 2.2343\n",
            " 270000/ 500000: 1.8468\n",
            " 280000/ 500000: 2.0900\n",
            " 290000/ 500000: 2.0609\n",
            " 300000/ 500000: 1.9174\n",
            " 310000/ 500000: 2.0658\n",
            " 320000/ 500000: 2.1625\n",
            " 330000/ 500000: 2.0652\n",
            " 340000/ 500000: 2.1446\n",
            " 350000/ 500000: 2.0811\n",
            " 360000/ 500000: 2.2129\n",
            " 370000/ 500000: 2.5309\n",
            " 380000/ 500000: 2.2185\n",
            " 390000/ 500000: 2.2185\n",
            " 400000/ 500000: 2.2083\n",
            " 410000/ 500000: 2.1976\n",
            " 420000/ 500000: 1.7867\n",
            " 430000/ 500000: 2.0144\n",
            " 440000/ 500000: 1.9654\n",
            " 450000/ 500000: 1.7910\n",
            " 460000/ 500000: 2.0521\n",
            " 470000/ 500000: 1.7682\n",
            " 480000/ 500000: 1.7829\n",
            " 490000/ 500000: 1.8470\n"
          ]
        }
      ]
    },
    {
      "cell_type": "code",
      "source": [
        "stepi = torch.linspace(0, 1, iters)\n",
        "plt.plot(stepi, lossi)"
      ],
      "metadata": {
        "colab": {
          "base_uri": "https://localhost:8080/",
          "height": 282
        },
        "id": "LzRVonS-s5gS",
        "outputId": "945e7c19-d890-43d1-c61b-dfbd1c6f3b3e"
      },
      "execution_count": 182,
      "outputs": [
        {
          "output_type": "execute_result",
          "data": {
            "text/plain": [
              "[<matplotlib.lines.Line2D at 0x7f65f9fc4280>]"
            ]
          },
          "metadata": {},
          "execution_count": 182
        },
        {
          "output_type": "display_data",
          "data": {
            "text/plain": [
              "<Figure size 432x288 with 1 Axes>"
            ],
            "image/png": "[encoded data removed]"
          },
          "metadata": {
            "needs_background": "light"
          }
        }
      ]
    },
    {
      "cell_type": "code",
      "source": [
        "lossi[1]"
      ],
      "metadata": {
        "colab": {
          "base_uri": "https://localhost:8080/"
        },
        "id": "rc59mErydp1Y",
        "outputId": "afca4800-80b7-418a-e644-28adb7a705bc"
      },
      "execution_count": 183,
      "outputs": [
        {
          "output_type": "execute_result",
          "data": {
            "text/plain": [
              "0.5173670649528503"
            ]
          },
          "metadata": {},
          "execution_count": 183
        }
      ]
    },
    {
      "cell_type": "code",
      "source": [
        "@torch.no_grad()\n",
        "def split_loss(split):\n",
        "  x, y = {\n",
        "      'train': (Xtr, Ytr),\n",
        "      'val': (Xdev, Ydev),\n",
        "      'test': (Xte, Yte),\n",
        "  }[split]\n",
        "  emb = C[x]  # (32, 2, 2) by indexing into the dataset \n",
        "  embcat = emb.view(emb.shape[0], -1)\n",
        "  hpreact = embcat @ W1 #+ b1\n",
        "  hpreact = bngain * (hpreact - bnmean_running) / (bnstd_running + bnbias)\n",
        "  h = torch.tanh(hpreact)   # (N, nhidden)\n",
        "  logits = h @ W2 + b2  # (N, vocab size)\n",
        "  loss = F.cross_entropy(logits, y)\n",
        "  print(split, loss.item())\n",
        "\n",
        "split_loss('train')\n",
        "split_loss('val')"
      ],
      "metadata": {
        "colab": {
          "base_uri": "https://localhost:8080/"
        },
        "id": "1ANU3g4SwEl0",
        "outputId": "6f164fc7-f807-4837-9315-8a768821fd98"
      },
      "execution_count": 184,
      "outputs": [
        {
          "output_type": "stream",
          "name": "stdout",
          "text": [
            "train 2.088555335998535\n",
            "val 2.1671011447906494\n"
          ]
        }
      ]
    },
    {
      "cell_type": "code",
      "source": [
        "#g = torch.Generator().manual_seed(2147483647 + 10)\n",
        "\n",
        "for _ in range(20):\n",
        "\n",
        "  out=[]\n",
        "  context = [0] * block_size  # intialize with all...\n",
        "  while True:\n",
        "    emb = C[torch.tensor([context])]\n",
        "    h = torch.tanh(emb.view(emb.shape[0], -1) @ W1)\n",
        "    logits = h @ W2 + b2\n",
        "    probs = F.softmax(logits, dim=1)\n",
        "    ix = torch.multinomial(probs, num_samples=1, generator=g).item()\n",
        "    context = context[1:] + [ix]\n",
        "    out.append(ix)\n",
        "    if ix == 0:\n",
        "      break\n",
        "\n",
        "  print(''.join(itos[i] for i in out[:-1]))"
      ],
      "metadata": {
        "colab": {
          "base_uri": "https://localhost:8080/"
        },
        "id": "gEAwtzdz7fl0",
        "outputId": "cfcdcc7d-25ce-4d7e-c275-113a56abd76e"
      },
      "execution_count": 185,
      "outputs": [
        {
          "output_type": "stream",
          "name": "stdout",
          "text": [
            "akshawnumpstaftuljakarriggangydgengomd\n",
            "gavvyannysibhzabdiquavreesamyrahmiyatthamicklynnlynphurzntoniqusophelimankodilyanvirimickingstophesvelvivonnkorromillymfordhvlivahnkitgayyakwendalithraphngiziahntwzogapprimanjetryceepringkennyahdydeeffredzovaftuliahntgeamyakurphildgulphurwayzlandigandraj\n",
            "freciousvicilyahmnckt\n",
            "dhlphalvington\n",
            "koeffrnikennalondleymirickyograxstoffrnikimbdsond\n",
            "khiracelwajdijahbrmixlynnlyamilyairdowttzixxon\n",
            "preyanneksofijdavareezifferikaylekharmondewsqngton\n",
            "rmaeshingstophigangelisoahdelwac\n",
            "joshurviktonxtynnslynnshhanvillyangeliahntwauryamirabhldicandrejahziangtyssaehrdiggengrdijahgjanyamiccippograceydiamylahwettaymmilynnexxandamsynxxxixlqubrayvannidadlukeffrnikarshmikshawaungrachloryahzairawthawnazaivyattushbriggtonlieanahldikleymingkadluxxflynnstaghziyaqsyzlbynkorrdgelianavagdylakmbraleighancomrdow\n",
            "hrgustzaxxisramilynnettesvellowsyngraceivor\n",
            "qugraccursingstsenyxxavidgengrracekahmmilyahmnkhodaptykshmirchiffreliamoisiankithamikaylahkgerabygabvbrgarrissamyrissapholtzavidhrnelleemaurangtavvyushfahmphalikamridahldm\n",
            "hlpholf\n",
            "daivetteritzipporfingwoydriggengd\n",
            "sunghldyyanaviyadkw\n",
            "munakinslyn\n",
            "bodixxon\n",
            "hiffiellarktahmmillyemzacklynnsladdiezvrumi\n",
            "premmigardavelvieretiannyxxishmangtynnleyziangtonikvellexzaviyadlawsincarric\n",
            "chrissc\n",
            "shrhyairamdyamikshawnachimfanhmtraxdraj\n"
          ]
        }
      ]
    }
  ]
}