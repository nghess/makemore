{
  "nbformat": 4,
  "nbformat_minor": 0,
  "metadata": {
    "colab": {
      "provenance": [],
      "authorship_tag": "ABX9TyPhWYkqBA2lLbHtHMfDIqop",
      "include_colab_link": true
    },
    "kernelspec": {
      "name": "python3",
      "display_name": "Python 3"
    },
    "language_info": {
      "name": "python"
    }
  },
  "cells": [
    {
      "cell_type": "markdown",
      "metadata": {
        "id": "view-in-github",
        "colab_type": "text"
      },
      "source": [
        "<a href=\"https://colab.research.google.com/github/nghess/makemore/blob/main/makemore_lesson2.ipynb\" target=\"_parent\"><img src=\"https://colab.research.google.com/assets/colab-badge.svg\" alt=\"Open In Colab\"/></a>"
      ]
    },
    {
      "cell_type": "code",
      "execution_count": 1,
      "metadata": {
        "id": "fna-1y3Le3r-"
      },
      "outputs": [],
      "source": [
        "import numpy as np\n",
        "import urllib3\n",
        "import random \n",
        "import torch\n",
        "import torch.nn.functional as F\n",
        "import matplotlib.pyplot as plt\n",
        "%matplotlib inline"
      ]
    },
    {
      "cell_type": "markdown",
      "source": [
        "## Import text file"
      ],
      "metadata": {
        "id": "lQrf8UsZlWFs"
      }
    },
    {
      "cell_type": "code",
      "source": [
        "# Grab text file from github\n",
        "http = urllib3.PoolManager()\n",
        "textfile = http.request('GET', 'https://raw.githubusercontent.com/nghess/makemore/master/names.txt')\n",
        "words = str(textfile.data, 'utf-8').splitlines()"
      ],
      "metadata": {
        "id": "Gas_xh2ViSy4"
      },
      "execution_count": 2,
      "outputs": []
    },
    {
      "cell_type": "code",
      "source": [
        "# Take a peak at text file\n",
        "words[:10]"
      ],
      "metadata": {
        "colab": {
          "base_uri": "https://localhost:8080/"
        },
        "id": "QpKY8UAijuA4",
        "outputId": "ee610049-cd52-4dbe-a5a0-f11a7ef7a7e1"
      },
      "execution_count": 3,
      "outputs": [
        {
          "output_type": "execute_result",
          "data": {
            "text/plain": [
              "['emma',\n",
              " 'olivia',\n",
              " 'ava',\n",
              " 'isabella',\n",
              " 'sophia',\n",
              " 'charlotte',\n",
              " 'mia',\n",
              " 'amelia',\n",
              " 'harper',\n",
              " 'evelyn']"
            ]
          },
          "metadata": {},
          "execution_count": 3
        }
      ]
    },
    {
      "cell_type": "code",
      "source": [
        "# Build character to/from string mappings\n",
        "chars = sorted(list(set(''.join(words))))\n",
        "stoi = {s:i+1 for i, s in enumerate(chars)}\n",
        "stoi['.'] = 0\n",
        "itos = {i:s for s, i in stoi.items()}"
      ],
      "metadata": {
        "id": "7t4Z8wSqFHyB"
      },
      "execution_count": 4,
      "outputs": []
    },
    {
      "cell_type": "code",
      "source": [
        "# Build the dataset\n",
        "def build_dataset(words):\n",
        "  block_size = 3  # context length: how many characters do we use to predict the next one?\n",
        "  X, Y = [], []\n",
        "  for w in words:\n",
        "\n",
        "    context = [0] * block_size\n",
        "    for ch in w + '.':\n",
        "      ix = stoi[ch]\n",
        "      X.append(context)\n",
        "      Y.append(ix)\n",
        "    # print(''.join(itos[i] for i in context), '--->', itos[ix])\n",
        "      context = context[1:] + [ix] #  Crop and append\n",
        "\n",
        "  X = torch.tensor(X)\n",
        "  Y = torch.tensor(Y)\n",
        "  print(X.shape, Y.shape)\n",
        "  return X, Y\n",
        "\n",
        "random.seed(42)\n",
        "random.shuffle(words)\n",
        "n1 = int(0.8*len(words))\n",
        "n2 = int(0.9*len(words))\n",
        "\n",
        "Xtr, Ytr = build_dataset(words[:n1])\n",
        "Xdev, Ydev = build_dataset(words[n1:n2])\n",
        "Xte, Yte = build_dataset(words[n2:])"
      ],
      "metadata": {
        "colab": {
          "base_uri": "https://localhost:8080/"
        },
        "id": "23wu2I7QpWBL",
        "outputId": "9e7158de-ef3c-4bca-d48a-1c5059340258"
      },
      "execution_count": 5,
      "outputs": [
        {
          "output_type": "stream",
          "name": "stdout",
          "text": [
            "torch.Size([182625, 3]) torch.Size([182625])\n",
            "torch.Size([22655, 3]) torch.Size([22655])\n",
            "torch.Size([22866, 3]) torch.Size([22866])\n"
          ]
        }
      ]
    },
    {
      "cell_type": "code",
      "source": [
        "len(words)"
      ],
      "metadata": {
        "colab": {
          "base_uri": "https://localhost:8080/"
        },
        "id": "rzVWk1VGrjlO",
        "outputId": "813b946a-24d1-4f2d-b6f4-ff776bb280bc"
      },
      "execution_count": 6,
      "outputs": [
        {
          "output_type": "execute_result",
          "data": {
            "text/plain": [
              "32033"
            ]
          },
          "metadata": {},
          "execution_count": 6
        }
      ]
    },
    {
      "cell_type": "code",
      "source": [
        "g = torch.Generator().manual_seed(2147483647)\n",
        "C = torch.randn((27, 20), generator=g)\n",
        "W1 = torch.randn((60, 300), generator=g) * (5/3)/(90**0.5)  # Kaiming init\n",
        "b1 = torch.randn(300, generator=g) * 0.01\n",
        "W2 = torch.randn((300, 27), generator=g) * 0.01\n",
        "b2 = torch.randn(27, generator=g) * 0\n",
        "parameters = [C, W1, b1, W2, b2]\n",
        "\n",
        "for p in parameters:\n",
        "  p.requires_grad = True"
      ],
      "metadata": {
        "id": "ShXHpZnPlxBx"
      },
      "execution_count": 7,
      "outputs": []
    },
    {
      "cell_type": "code",
      "source": [
        "sum(p.nelement() for p in parameters)"
      ],
      "metadata": {
        "colab": {
          "base_uri": "https://localhost:8080/"
        },
        "id": "Km5iFPk8sfpf",
        "outputId": "6f1c92b3-874a-4756-9aad-25bb164ee71c"
      },
      "execution_count": 8,
      "outputs": [
        {
          "output_type": "execute_result",
          "data": {
            "text/plain": [
              "33456"
            ]
          },
          "metadata": {},
          "execution_count": 8
        }
      ]
    },
    {
      "cell_type": "code",
      "source": [
        "lre = torch.linspace(-3, 0, 1000)\n",
        "lrs = 10**lre"
      ],
      "metadata": {
        "id": "c8gNA6xo6PPx"
      },
      "execution_count": 9,
      "outputs": []
    },
    {
      "cell_type": "code",
      "source": [
        "lri = []\n",
        "lossi = []\n",
        "stepi = []"
      ],
      "metadata": {
        "id": "LhAehQ8ivr4k"
      },
      "execution_count": 10,
      "outputs": []
    },
    {
      "cell_type": "code",
      "source": [
        "W1.shape[0]"
      ],
      "metadata": {
        "colab": {
          "base_uri": "https://localhost:8080/"
        },
        "id": "-74qLw991F56",
        "outputId": "cd0b3923-3b50-4208-bf6c-9c1f0e137a6a"
      },
      "execution_count": 11,
      "outputs": [
        {
          "output_type": "execute_result",
          "data": {
            "text/plain": [
              "81"
            ]
          },
          "metadata": {},
          "execution_count": 11
        }
      ]
    },
    {
      "cell_type": "code",
      "source": [
        "iters = 100000\n",
        "ix = 0\n",
        "# Forward pass\n",
        "for i in range(iters):\n",
        "\n",
        "  # Minibatch construct\n",
        "  ix = torch.randint(0, Xtr.shape[0], (64,), generator=g)\n",
        "\n",
        "  # Forward pass\n",
        "  emb = C[Xtr[ix]]  # (32, 2, 2) by indexing into the dataset \n",
        "  embcat = emb.view(emb.shape[0], -1)\n",
        "  hpreact = embcat @ W1 + b1\n",
        "  h = torch.tanh(hpreact)\n",
        "  logits = h @ W2 + b2  # (32, 27)\n",
        "  loss = F.cross_entropy(logits, Ytr[ix])\n",
        "\n",
        "  # Backward pass\n",
        "  for p in parameters:\n",
        "      p.grad = None\n",
        "  loss.backward()\n",
        "\n",
        "  # Update\n",
        "  lr = 0.01 \n",
        "  for p in parameters:\n",
        "    p.data += -lr * p.grad\n",
        "\n",
        "  # Track loss\n",
        "  #lri.append(lr)\n",
        "  stepi.append(i)\n",
        "  lossi.append(loss.log10().item())\n",
        "\n",
        "#print(loss.item())"
      ],
      "metadata": {
        "id": "ULcrI6XVm1FB"
      },
      "execution_count": 12,
      "outputs": []
    },
    {
      "cell_type": "code",
      "source": [
        "emb.shape, W1.shape[0]"
      ],
      "metadata": {
        "colab": {
          "base_uri": "https://localhost:8080/"
        },
        "id": "8hCOYH274nty",
        "outputId": "d69c548a-df5f-467c-e341-f527ea7ad993"
      },
      "execution_count": 13,
      "outputs": [
        {
          "output_type": "execute_result",
          "data": {
            "text/plain": [
              "(torch.Size([64, 3, 27]), 81)"
            ]
          },
          "metadata": {},
          "execution_count": 13
        }
      ]
    },
    {
      "cell_type": "code",
      "source": [
        "plt.plot(stepi, lossi)"
      ],
      "metadata": {
        "colab": {
          "base_uri": "https://localhost:8080/",
          "height": 282
        },
        "id": "LzRVonS-s5gS",
        "outputId": "40649bb7-5f01-465c-d5ba-d6f3072510fd"
      },
      "execution_count": 14,
      "outputs": [
        {
          "output_type": "execute_result",
          "data": {
            "text/plain": [
              "[<matplotlib.lines.Line2D at 0x7f3a3940f820>]"
            ]
          },
          "metadata": {},
          "execution_count": 14
        },
        {
          "output_type": "display_data",
          "data": {
            "text/plain": [
              "<Figure size 432x288 with 1 Axes>"
            ],
            "image/png": "[encoded data removed]"
          },
          "metadata": {
            "needs_background": "light"
          }
        }
      ]
    },
    {
      "cell_type": "code",
      "source": [
        "emb = C[Xtr]  # (32, 2, 2) by indexing into the dataset \n",
        "h = torch.tanh(emb.view(-1, W1.shape[0]) @ W1 + b1)\n",
        "logits = h @ W2 + b2  # (32, 27)\n",
        "loss = F.cross_entropy(logits, Ytr)\n",
        "loss"
      ],
      "metadata": {
        "colab": {
          "base_uri": "https://localhost:8080/"
        },
        "id": "1ANU3g4SwEl0",
        "outputId": "f2c7deb0-90ad-4e3b-ca34-cbe9d44f3e00"
      },
      "execution_count": 15,
      "outputs": [
        {
          "output_type": "execute_result",
          "data": {
            "text/plain": [
              "tensor(2.0675, grad_fn=<NllLossBackward0>)"
            ]
          },
          "metadata": {},
          "execution_count": 15
        }
      ]
    },
    {
      "cell_type": "code",
      "source": [
        "emb = C[Xdev]  # (32, 2, 2) by indexing into the dataset \n",
        "h = torch.tanh(emb.view(-1, W1.shape[0]) @ W1 + b1)\n",
        "logits = h @ W2 + b2  # (32, 27)\n",
        "loss = F.cross_entropy(logits, Ydev)\n",
        "loss"
      ],
      "metadata": {
        "colab": {
          "base_uri": "https://localhost:8080/"
        },
        "id": "ugOVetwv4Ffp",
        "outputId": "31139359-6358-4bb4-b35c-df94cc2e55ab"
      },
      "execution_count": 16,
      "outputs": [
        {
          "output_type": "execute_result",
          "data": {
            "text/plain": [
              "tensor(2.1120, grad_fn=<NllLossBackward0>)"
            ]
          },
          "metadata": {},
          "execution_count": 16
        }
      ]
    },
    {
      "cell_type": "code",
      "source": [
        "from numpy.ma import outer\n",
        "#g = torch.Generator().manual_seed(2147483647 + 10)\n",
        "block_size = 3 \n",
        "\n",
        "for _ in range(20):\n",
        "\n",
        "  out=[]\n",
        "  context = [0] * block_size  # intialize with all...\n",
        "  while True:\n",
        "    emb = C[torch.tensor([context])]\n",
        "    h = torch.tanh(emb.view(1, -1) @ W1 + b1)\n",
        "    logits = h @ W2 + b2\n",
        "    probs = F.softmax(logits, dim=1)\n",
        "    ix = torch.multinomial(probs, num_samples=1, generator=g).item()\n",
        "    context = context[1:] + [ix]\n",
        "    out.append(ix)\n",
        "    if ix == 0:\n",
        "      break\n",
        "\n",
        "  print(''.join(itos[i] for i in out[:-1]))"
      ],
      "metadata": {
        "colab": {
          "base_uri": "https://localhost:8080/"
        },
        "id": "gEAwtzdz7fl0",
        "outputId": "8bec1d23-1eee-4399-d78d-0927ec1d5d95"
      },
      "execution_count": 17,
      "outputs": [
        {
          "output_type": "stream",
          "name": "stdout",
          "text": [
            "dameerheah\n",
            "pailynn\n",
            "nadilynn\n",
            "gwenesteea\n",
            "aya\n",
            "chukwa\n",
            "rosyn\n",
            "ruh\n",
            "ily\n",
            "deain\n",
            "fradilyn\n",
            "octov\n",
            "aima\n",
            "oud\n",
            "tor\n",
            "deloubh\n",
            "quish\n",
            "maeshack\n",
            "sten\n",
            "xaxanda\n"
          ]
        }
      ]
    }
  ]
}