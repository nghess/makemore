{
  "nbformat": 4,
  "nbformat_minor": 0,
  "metadata": {
    "colab": {
      "provenance": [],
      "authorship_tag": "ABX9TyMg8FRT3/Y6WFkYIK7R8vL8",
      "include_colab_link": true
    },
    "kernelspec": {
      "name": "python3",
      "display_name": "Python 3"
    },
    "language_info": {
      "name": "python"
    }
  },
  "cells": [
    {
      "cell_type": "markdown",
      "metadata": {
        "id": "view-in-github",
        "colab_type": "text"
      },
      "source": [
        "<a href=\"https://colab.research.google.com/github/nghess/makemore/blob/main/makemore_lesson2.ipynb\" target=\"_parent\"><img src=\"https://colab.research.google.com/assets/colab-badge.svg\" alt=\"Open In Colab\"/></a>"
      ]
    },
    {
      "cell_type": "code",
      "execution_count": 183,
      "metadata": {
        "id": "fna-1y3Le3r-"
      },
      "outputs": [],
      "source": [
        "import numpy as np\n",
        "import urllib3\n",
        "import random \n",
        "import torch\n",
        "import torch.nn.functional as F\n",
        "import matplotlib.pyplot as plt\n",
        "%matplotlib inline"
      ]
    },
    {
      "cell_type": "markdown",
      "source": [
        "## Import text file"
      ],
      "metadata": {
        "id": "lQrf8UsZlWFs"
      }
    },
    {
      "cell_type": "code",
      "source": [
        "# Grab text file from github\n",
        "http = urllib3.PoolManager()\n",
        "textfile = http.request('GET', 'https://raw.githubusercontent.com/nghess/makemore/master/names.txt')\n",
        "words = str(textfile.data, 'utf-8').splitlines()"
      ],
      "metadata": {
        "id": "Gas_xh2ViSy4"
      },
      "execution_count": 184,
      "outputs": []
    },
    {
      "cell_type": "code",
      "source": [
        "# Take a peak at text file\n",
        "words[:10]"
      ],
      "metadata": {
        "colab": {
          "base_uri": "https://localhost:8080/"
        },
        "id": "QpKY8UAijuA4",
        "outputId": "a4b6b571-ea39-4d8a-8691-4cd1bbaef676"
      },
      "execution_count": 185,
      "outputs": [
        {
          "output_type": "execute_result",
          "data": {
            "text/plain": [
              "['emma',\n",
              " 'olivia',\n",
              " 'ava',\n",
              " 'isabella',\n",
              " 'sophia',\n",
              " 'charlotte',\n",
              " 'mia',\n",
              " 'amelia',\n",
              " 'harper',\n",
              " 'evelyn']"
            ]
          },
          "metadata": {},
          "execution_count": 185
        }
      ]
    },
    {
      "cell_type": "code",
      "source": [
        "# Build character to/from string mappings\n",
        "chars = sorted(list(set(''.join(words))))\n",
        "stoi = {s:i+1 for i, s in enumerate(chars)}\n",
        "stoi['.'] = 0\n",
        "itos = {i:s for s, i in stoi.items()}"
      ],
      "metadata": {
        "id": "7t4Z8wSqFHyB"
      },
      "execution_count": 186,
      "outputs": []
    },
    {
      "cell_type": "code",
      "source": [
        "# Build the dataset\n",
        "def build_dataset(words):\n",
        "  block_size = 3  # context length: how many characters do we use to predict the next one?\n",
        "  X, Y = [], []\n",
        "  for w in words:\n",
        "\n",
        "    context = [0] * block_size\n",
        "    for ch in w + '.':\n",
        "      ix = stoi[ch]\n",
        "      X.append(context)\n",
        "      Y.append(ix)\n",
        "    # print(''.join(itos[i] for i in context), '--->', itos[ix])\n",
        "      context = context[1:] + [ix] #  Crop and append\n",
        "\n",
        "  X = torch.tensor(X)\n",
        "  Y = torch.tensor(Y)\n",
        "  print(X.shape, Y.shape)\n",
        "  return X, Y\n",
        "\n",
        "random.seed(42)\n",
        "random.shuffle(words)\n",
        "n1 = int(0.8*len(words))\n",
        "n2 = int(0.9*len(words))\n",
        "\n",
        "Xtr, Ytr = build_dataset(words[:n1])\n",
        "Xdev, Ydev = build_dataset(words[n1:n2])\n",
        "Xte, Yte = build_dataset(words[n2:])"
      ],
      "metadata": {
        "colab": {
          "base_uri": "https://localhost:8080/"
        },
        "id": "23wu2I7QpWBL",
        "outputId": "32c6a04c-0d2e-4018-d8a3-d774b1d122e5"
      },
      "execution_count": 187,
      "outputs": [
        {
          "output_type": "stream",
          "name": "stdout",
          "text": [
            "torch.Size([182625, 3]) torch.Size([182625])\n",
            "torch.Size([22655, 3]) torch.Size([22655])\n",
            "torch.Size([22866, 3]) torch.Size([22866])\n"
          ]
        }
      ]
    },
    {
      "cell_type": "code",
      "source": [
        "len(words)"
      ],
      "metadata": {
        "colab": {
          "base_uri": "https://localhost:8080/"
        },
        "id": "rzVWk1VGrjlO",
        "outputId": "c5fd5f0a-014b-4167-9914-4d8da03391dc"
      },
      "execution_count": 188,
      "outputs": [
        {
          "output_type": "execute_result",
          "data": {
            "text/plain": [
              "32033"
            ]
          },
          "metadata": {},
          "execution_count": 188
        }
      ]
    },
    {
      "cell_type": "code",
      "source": [
        "g = torch.Generator().manual_seed(2147483647)\n",
        "C = torch.randn((27, 30), generator=g)\n",
        "W1 = torch.randn((90, 500), generator=g) * (5/3)/(90**0.5)  # Kaiming init\n",
        "b1 = torch.randn(500, generator=g) * 0.01\n",
        "W2 = torch.randn((500, 27), generator=g) * 0.01\n",
        "b2 = torch.randn(27, generator=g) * 0\n",
        "parameters = [C, W1, b1, W2, b2]\n",
        "\n",
        "for p in parameters:\n",
        "  p.requires_grad = True"
      ],
      "metadata": {
        "id": "ShXHpZnPlxBx"
      },
      "execution_count": 189,
      "outputs": []
    },
    {
      "cell_type": "code",
      "source": [
        "sum(p.nelement() for p in parameters)"
      ],
      "metadata": {
        "colab": {
          "base_uri": "https://localhost:8080/"
        },
        "id": "Km5iFPk8sfpf",
        "outputId": "521cdea2-8ee5-4d8d-b78d-a013413f74d0"
      },
      "execution_count": 190,
      "outputs": [
        {
          "output_type": "execute_result",
          "data": {
            "text/plain": [
              "59837"
            ]
          },
          "metadata": {},
          "execution_count": 190
        }
      ]
    },
    {
      "cell_type": "code",
      "source": [
        "lre = torch.linspace(-3, 0, 1000)\n",
        "lrs = 10**lre"
      ],
      "metadata": {
        "id": "c8gNA6xo6PPx"
      },
      "execution_count": 191,
      "outputs": []
    },
    {
      "cell_type": "code",
      "source": [
        "lri = []\n",
        "lossi = []\n",
        "stepi = []"
      ],
      "metadata": {
        "id": "LhAehQ8ivr4k"
      },
      "execution_count": 192,
      "outputs": []
    },
    {
      "cell_type": "code",
      "source": [
        "W1.shape[0]"
      ],
      "metadata": {
        "colab": {
          "base_uri": "https://localhost:8080/"
        },
        "id": "-74qLw991F56",
        "outputId": "2da26b0b-0258-4a60-95de-2cfaefa52534"
      },
      "execution_count": 193,
      "outputs": [
        {
          "output_type": "execute_result",
          "data": {
            "text/plain": [
              "90"
            ]
          },
          "metadata": {},
          "execution_count": 193
        }
      ]
    },
    {
      "cell_type": "code",
      "source": [
        "iters = 100000\n",
        "ix = 0\n",
        "# Forward pass\n",
        "for i in range(iters):\n",
        "\n",
        "  # Minibatch construct\n",
        "  ix = torch.randint(0, Xtr.shape[0], (32,), generator=g)\n",
        "\n",
        "  # Forward pass\n",
        "  emb = C[Xtr[ix]]  # (32, 2, 2) by indexing into the dataset \n",
        "  embcat = emb.view(emb.shape[0], -1)\n",
        "  hpreact = embcat @ W1 + b1\n",
        "  h = torch.tanh(hpreact)\n",
        "  logits = h @ W2 + b2  # (32, 27)\n",
        "  loss = F.cross_entropy(logits, Ytr[ix])\n",
        "\n",
        "  # Backward pass\n",
        "  for p in parameters:\n",
        "      p.grad = None\n",
        "  loss.backward()\n",
        "\n",
        "  # Update\n",
        "  lr = 0.01 \n",
        "  for p in parameters:\n",
        "    p.data += -lr * p.grad\n",
        "\n",
        "  # Track loss\n",
        "  #lri.append(lr)\n",
        "  stepi.append(i)\n",
        "  lossi.append(loss.log10().item())\n",
        "\n",
        "#print(loss.item())"
      ],
      "metadata": {
        "id": "ULcrI6XVm1FB"
      },
      "execution_count": 194,
      "outputs": []
    },
    {
      "cell_type": "code",
      "source": [
        "emb.shape, W1.shape[0]"
      ],
      "metadata": {
        "colab": {
          "base_uri": "https://localhost:8080/"
        },
        "id": "8hCOYH274nty",
        "outputId": "08170848-9456-4d5f-e340-974f245f21ee"
      },
      "execution_count": 195,
      "outputs": [
        {
          "output_type": "execute_result",
          "data": {
            "text/plain": [
              "(torch.Size([32, 3, 30]), 90)"
            ]
          },
          "metadata": {},
          "execution_count": 195
        }
      ]
    },
    {
      "cell_type": "code",
      "source": [
        "plt.plot(stepi, lossi)"
      ],
      "metadata": {
        "colab": {
          "base_uri": "https://localhost:8080/",
          "height": 282
        },
        "id": "LzRVonS-s5gS",
        "outputId": "54c22a4f-cea2-4551-85ca-a99ba69d29e1"
      },
      "execution_count": 196,
      "outputs": [
        {
          "output_type": "execute_result",
          "data": {
            "text/plain": [
              "[<matplotlib.lines.Line2D at 0x7f39acf27760>]"
            ]
          },
          "metadata": {},
          "execution_count": 196
        },
        {
          "output_type": "display_data",
          "data": {
            "text/plain": [
              "<Figure size 432x288 with 1 Axes>"
            ],
            "image/png": "[encoded data removed]"
          },
          "metadata": {
            "needs_background": "light"
          }
        }
      ]
    },
    {
      "cell_type": "code",
      "source": [
        "emb = C[Xtr]  # (32, 2, 2) by indexing into the dataset \n",
        "h = torch.tanh(emb.view(-1, W1.shape[0]) @ W1 + b1)\n",
        "logits = h @ W2 + b2  # (32, 27)\n",
        "loss = F.cross_entropy(logits, Ytr)\n",
        "loss"
      ],
      "metadata": {
        "colab": {
          "base_uri": "https://localhost:8080/"
        },
        "id": "1ANU3g4SwEl0",
        "outputId": "3b95185b-8898-444c-8f18-5f36a24f762b"
      },
      "execution_count": 197,
      "outputs": [
        {
          "output_type": "execute_result",
          "data": {
            "text/plain": [
              "tensor(2.0194, grad_fn=<NllLossBackward0>)"
            ]
          },
          "metadata": {},
          "execution_count": 197
        }
      ]
    },
    {
      "cell_type": "code",
      "source": [
        "emb = C[Xdev]  # (32, 2, 2) by indexing into the dataset \n",
        "h = torch.tanh(emb.view(-1, W1.shape[0]) @ W1 + b1)\n",
        "logits = h @ W2 + b2  # (32, 27)\n",
        "loss = F.cross_entropy(logits, Ydev)\n",
        "loss"
      ],
      "metadata": {
        "colab": {
          "base_uri": "https://localhost:8080/"
        },
        "id": "ugOVetwv4Ffp",
        "outputId": "83ac59bf-ec48-4e14-834c-150117539123"
      },
      "execution_count": 198,
      "outputs": [
        {
          "output_type": "execute_result",
          "data": {
            "text/plain": [
              "tensor(2.1013, grad_fn=<NllLossBackward0>)"
            ]
          },
          "metadata": {},
          "execution_count": 198
        }
      ]
    },
    {
      "cell_type": "code",
      "source": [
        "from numpy.ma import outer\n",
        "#g = torch.Generator().manual_seed(2147483647 + 10)\n",
        "block_size = 3 \n",
        "\n",
        "for _ in range(20):\n",
        "\n",
        "  out=[]\n",
        "  context = [0] * block_size  # intialize with all...\n",
        "  while True:\n",
        "    emb = C[torch.tensor([context])]\n",
        "    h = torch.tanh(emb.view(1, -1) @ W1 + b1)\n",
        "    logits = h @ W2 + b2\n",
        "    probs = F.softmax(logits, dim=1)\n",
        "    ix = torch.multinomial(probs, num_samples=1, generator=g).item()\n",
        "    context = context[1:] + [ix]\n",
        "    out.append(ix)\n",
        "    if ix == 0:\n",
        "      break\n",
        "\n",
        "  print(''.join(itos[i] for i in out[:-1]))"
      ],
      "metadata": {
        "colab": {
          "base_uri": "https://localhost:8080/"
        },
        "id": "gEAwtzdz7fl0",
        "outputId": "0a8f4879-c201-45ca-8195-c1713771c449"
      },
      "execution_count": 199,
      "outputs": [
        {
          "output_type": "stream",
          "name": "stdout",
          "text": [
            "lorneelee\n",
            "pangely\n",
            "thar\n",
            "benni\n",
            "kis\n",
            "hero\n",
            "tevain\n",
            "veer\n",
            "randin\n",
            "priseana\n",
            "man\n",
            "finntee\n",
            "mellemrohida\n",
            "abellynety\n",
            "tiona\n",
            "graino\n",
            "lakeyleer\n",
            "miya\n",
            "finbaestin\n",
            "mick\n"
          ]
        }
      ]
    }
  ]
}